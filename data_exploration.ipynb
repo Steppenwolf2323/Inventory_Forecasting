{
 "cells": [
  {
   "cell_type": "code",
   "execution_count": 1,
   "id": "d0ac728f",
   "metadata": {},
   "outputs": [
    {
     "name": "stdout",
     "output_type": "stream",
     "text": [
      "['Product_ID', 'Product_Name', 'Catagory', 'Supplier_ID', 'Supplier_Name', 'Stock_Quantity', 'Reorder_Level', 'Reorder_Quantity', 'Unit_Price', 'Date_Received', 'Last_Order_Date', 'Expiration_Date', 'Warehouse_Location', 'Sales_Volume', 'Inventory_Turnover_Rate', 'Status']\n"
     ]
    }
   ],
   "source": [
    "# We want to double check the header of the csv file, already shown in the description of the dataset.\n",
    "# This function does not have a relevant use, however it helps to have a clear visualization of the headers.\n",
    "\n",
    "\n",
    "import csv\n",
    "\n",
    "data = r\"C:\\Users\\zanca\\OneDrive\\Desktop\\Projects\\Inventory_Forecasting\\Inventory_Forecasting\\data\\Grocery_Inventory_and_Sales_Dataset (1).csv\"\n",
    "\n",
    "def check_file(data):\n",
    "\n",
    "    with open(data) as csvfile:\n",
    "\n",
    "        dataset = csv.DictReader(csvfile)\n",
    "\n",
    "        headers = dataset.fieldnames\n",
    "\n",
    "        print(headers)\n",
    "\n",
    "check_file(data)\n"
   ]
  },
  {
   "cell_type": "code",
   "execution_count": 2,
   "id": "fe862905",
   "metadata": {},
   "outputs": [],
   "source": [
    "# Checking the consistency of the dataset. We want to ensure that not null values are present, and that the dates are properly formatted.\n",
    "\n",
    "from datetime import datetime\n",
    "\n",
    "\n",
    "def check_null_dates(data):\n",
    "\n",
    "    column_date = ['Date_Received', 'Last_Order_Date', 'Expiration_Date']\n",
    "\n",
    "    with open(data) as file:\n",
    "\n",
    "        ds = csv.DictReader(file)\n",
    "\n",
    "        for i, dicts in enumerate(ds):\n",
    "\n",
    "            for header, values in dicts.items():\n",
    "\n",
    "                if values is None or values.strip() == '':\n",
    "\n",
    "                    print(f'Null value found at line {i + 2}, header {header}')\n",
    "\n",
    "                if header in column_date and values.strip() != '' :\n",
    "\n",
    "                    try:\n",
    "\n",
    "                        datetime.strptime(values.strip(), \"%m/%d/%Y\")\n",
    "\n",
    "                    except ValueError:\n",
    "\n",
    "                        print(f'Invalid date format at line {i + 2}, header {header}: \"{values}\"')\n",
    "\n",
    "\n",
    "        \n",
    "check_null_dates(data)\n"
   ]
  },
  {
   "cell_type": "markdown",
   "id": "7e5fb147",
   "metadata": {},
   "source": [
    "##### The dataset has been purposelly created for academic task: in fact only one missing value is present.\n",
    " (\"Null value found at line 687, header Catagory\"), which has been manually entered."
   ]
  }
 ],
 "metadata": {
  "kernelspec": {
   "display_name": "Python 3",
   "language": "python",
   "name": "python3"
  },
  "language_info": {
   "codemirror_mode": {
    "name": "ipython",
    "version": 3
   },
   "file_extension": ".py",
   "mimetype": "text/x-python",
   "name": "python",
   "nbconvert_exporter": "python",
   "pygments_lexer": "ipython3",
   "version": "3.11.1"
  }
 },
 "nbformat": 4,
 "nbformat_minor": 5
}
