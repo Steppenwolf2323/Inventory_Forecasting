{
 "cells": [
  {
   "cell_type": "code",
   "execution_count": 5,
   "id": "d0ac728f",
   "metadata": {},
   "outputs": [
    {
     "name": "stdout",
     "output_type": "stream",
     "text": [
      "['Product_ID', 'Product_Name', 'Catagory', 'Supplier_ID', 'Supplier_Name', 'Stock_Quantity', 'Reorder_Level', 'Reorder_Quantity', 'Unit_Price', 'Date_Received', 'Last_Order_Date', 'Expiration_Date', 'Warehouse_Location', 'Sales_Volume', 'Inventory_Turnover_Rate', 'Status']\n"
     ]
    }
   ],
   "source": [
    "# We want to double check the header of the csv file, already shown in the description of the dataset.\n",
    "# This is useful to ensure that the file is read correctly and the headers are as expected.\n",
    "\n",
    "\n",
    "import csv\n",
    "\n",
    "data = r\"C:\\Users\\zanca\\OneDrive\\Desktop\\Projects\\Inventory_Forecasting\\Inventory_Forecasting\\data\\Grocery_Inventory_and_Sales_Dataset (1).csv\"\n",
    "\n",
    "def check_file(data):\n",
    "\n",
    "    with open(data) as csvfile:\n",
    "\n",
    "        dataset = csv.DictReader(csvfile)\n",
    "\n",
    "        headers = dataset.fieldnames\n",
    "\n",
    "        print(headers)\n",
    "\n",
    "check_file(data)\n"
   ]
  },
  {
   "cell_type": "code",
   "execution_count": null,
   "id": "fe862905",
   "metadata": {},
   "outputs": [],
   "source": []
  }
 ],
 "metadata": {
  "kernelspec": {
   "display_name": "Python 3",
   "language": "python",
   "name": "python3"
  },
  "language_info": {
   "codemirror_mode": {
    "name": "ipython",
    "version": 3
   },
   "file_extension": ".py",
   "mimetype": "text/x-python",
   "name": "python",
   "nbconvert_exporter": "python",
   "pygments_lexer": "ipython3",
   "version": "3.11.1"
  }
 },
 "nbformat": 4,
 "nbformat_minor": 5
}
